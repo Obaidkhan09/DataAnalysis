{
  "nbformat": 4,
  "nbformat_minor": 0,
  "metadata": {
    "colab": {
      "name": "Python Revise.ipynb",
      "provenance": [],
      "authorship_tag": "ABX9TyP9iqFCYYWPsVSmrq2QLu6R",
      "include_colab_link": true
    },
    "kernelspec": {
      "name": "python3",
      "display_name": "Python 3"
    },
    "language_info": {
      "name": "python"
    }
  },
  "cells": [
    {
      "cell_type": "markdown",
      "metadata": {
        "id": "view-in-github",
        "colab_type": "text"
      },
      "source": [
        "<a href=\"https://colab.research.google.com/github/Obaidkhan09/DataAnalysis/blob/main/Python_Revise.ipynb\" target=\"_parent\"><img src=\"https://colab.research.google.com/assets/colab-badge.svg\" alt=\"Open In Colab\"/></a>"
      ]
    },
    {
      "cell_type": "code",
      "execution_count": 1,
      "metadata": {
        "colab": {
          "base_uri": "https://localhost:8080/"
        },
        "id": "x4STHz0Vy2Ud",
        "outputId": "4bc45914-5c5f-4e9d-c796-4c1bba9369c3"
      },
      "outputs": [
        {
          "output_type": "stream",
          "name": "stdout",
          "text": [
            "Hello to Python Again..!\n"
          ]
        }
      ],
      "source": [
        "print(\"Hello to Python Again..!\")"
      ]
    },
    {
      "cell_type": "code",
      "source": [
        "myName = input(\"Input Your Name: \")\n",
        "print(myName)"
      ],
      "metadata": {
        "colab": {
          "base_uri": "https://localhost:8080/"
        },
        "id": "-aada9Xh2V-9",
        "outputId": "49c7e5a8-6e46-478d-ef61-8c1676dc9e9c"
      },
      "execution_count": 2,
      "outputs": [
        {
          "output_type": "stream",
          "name": "stdout",
          "text": [
            "Input Your Name: Obaid Ur Rahman\n",
            "Obaid Ur Rahman\n"
          ]
        }
      ]
    },
    {
      "cell_type": "code",
      "source": [
        "type(myName)"
      ],
      "metadata": {
        "colab": {
          "base_uri": "https://localhost:8080/"
        },
        "id": "mI5tlbN025d5",
        "outputId": "3800ce49-e4d8-4531-d715-0f9502f083db"
      },
      "execution_count": 3,
      "outputs": [
        {
          "output_type": "execute_result",
          "data": {
            "text/plain": [
              "str"
            ]
          },
          "metadata": {},
          "execution_count": 3
        }
      ]
    },
    {
      "cell_type": "code",
      "source": [
        "myAge = 24\n",
        "is_my_age = myAge >=18 \n",
        "type(is_my_age)"
      ],
      "metadata": {
        "colab": {
          "base_uri": "https://localhost:8080/"
        },
        "id": "aS_Sd5Pz3h6R",
        "outputId": "634e1266-9f92-4495-85c3-012c64fb6398"
      },
      "execution_count": 4,
      "outputs": [
        {
          "output_type": "execute_result",
          "data": {
            "text/plain": [
              "bool"
            ]
          },
          "metadata": {},
          "execution_count": 4
        }
      ]
    },
    {
      "cell_type": "code",
      "source": [
        " var1 = 4 + True\n",
        "var2 = 3. * False\n",
        "print(var1, \" and \", var2)"
      ],
      "metadata": {
        "colab": {
          "base_uri": "https://localhost:8080/"
        },
        "id": "yjGLs0wj6BIB",
        "outputId": "417644e5-49e0-487e-fd99-92f789f6dac2"
      },
      "execution_count": 5,
      "outputs": [
        {
          "output_type": "stream",
          "name": "stdout",
          "text": [
            "5  and  0.0\n"
          ]
        }
      ]
    },
    {
      "cell_type": "code",
      "source": [
        "nothing = None\n",
        "type(nothing)"
      ],
      "metadata": {
        "colab": {
          "base_uri": "https://localhost:8080/"
        },
        "id": "NHBFHMR86Om-",
        "outputId": "ca907509-1792-4f1f-87e5-5ed378c1efdb"
      },
      "execution_count": 6,
      "outputs": [
        {
          "output_type": "execute_result",
          "data": {
            "text/plain": [
              "NoneType"
            ]
          },
          "metadata": {},
          "execution_count": 6
        }
      ]
    },
    {
      "cell_type": "code",
      "source": [
        "paragraph = \"\"\"\n",
        "This is a Paragraph.!!\n",
        "It's a Multiline String.!\n",
        "You can write it with 3 Qoatations.\n",
        "Amazing Right.!!\n",
        "\"\"\"\n",
        "paragraph"
      ],
      "metadata": {
        "colab": {
          "base_uri": "https://localhost:8080/",
          "height": 35
        },
        "id": "qtkHX-sq9Ifb",
        "outputId": "0b49df05-ab13-4916-c02a-d33a4489d804"
      },
      "execution_count": 7,
      "outputs": [
        {
          "output_type": "execute_result",
          "data": {
            "application/vnd.google.colaboratory.intrinsic+json": {
              "type": "string"
            },
            "text/plain": [
              "\"\\nThis is a Paragraph.!!\\nIt's a Multiline String.!\\nYou can write it with 3 Qoatations.\\nAmazing Right.!!\\n\""
            ]
          },
          "metadata": {},
          "execution_count": 7
        }
      ]
    },
    {
      "cell_type": "code",
      "source": [
        "list1 = [\"Monday\", \"Tuesday\", \"Wednesday\"]\n",
        "a = list1[1]\n",
        "a = a[len(a)-1]\n",
        "a"
      ],
      "metadata": {
        "id": "2ZgR8ZpE-SHj",
        "colab": {
          "base_uri": "https://localhost:8080/",
          "height": 35
        },
        "outputId": "adf4371f-4dc6-49f1-f033-091e497a7b84"
      },
      "execution_count": 8,
      "outputs": [
        {
          "output_type": "execute_result",
          "data": {
            "application/vnd.google.colaboratory.intrinsic+json": {
              "type": "string"
            },
            "text/plain": [
              "'y'"
            ]
          },
          "metadata": {},
          "execution_count": 8
        }
      ]
    },
    {
      "cell_type": "code",
      "source": [
        "a = list1[0]\n",
        "a = a[2:len(a)+1]\n",
        "a"
      ],
      "metadata": {
        "colab": {
          "base_uri": "https://localhost:8080/",
          "height": 35
        },
        "id": "au8LOVPE8qfQ",
        "outputId": "7fa39520-d8cd-42c1-db1c-3cfbba9a748c"
      },
      "execution_count": 9,
      "outputs": [
        {
          "output_type": "execute_result",
          "data": {
            "application/vnd.google.colaboratory.intrinsic+json": {
              "type": "string"
            },
            "text/plain": [
              "'nday'"
            ]
          },
          "metadata": {},
          "execution_count": 9
        }
      ]
    },
    {
      "cell_type": "code",
      "source": [
        "a = list1[1].upper()\n",
        "a"
      ],
      "metadata": {
        "colab": {
          "base_uri": "https://localhost:8080/",
          "height": 35
        },
        "id": "31tbwKXg86nz",
        "outputId": "14af6b05-9cf8-469e-f553-6b5221db3fc1"
      },
      "execution_count": 10,
      "outputs": [
        {
          "output_type": "execute_result",
          "data": {
            "application/vnd.google.colaboratory.intrinsic+json": {
              "type": "string"
            },
            "text/plain": [
              "'TUESDAY'"
            ]
          },
          "metadata": {},
          "execution_count": 10
        }
      ]
    },
    {
      "cell_type": "code",
      "source": [
        "'DAY' in a"
      ],
      "metadata": {
        "colab": {
          "base_uri": "https://localhost:8080/"
        },
        "id": "YbdDLp6G9I0R",
        "outputId": "98e18fd8-e71f-4982-a5c3-5e7c61b7e927"
      },
      "execution_count": 11,
      "outputs": [
        {
          "output_type": "execute_result",
          "data": {
            "text/plain": [
              "True"
            ]
          },
          "metadata": {},
          "execution_count": 11
        }
      ]
    },
    {
      "cell_type": "code",
      "source": [
        "'day' in a"
      ],
      "metadata": {
        "colab": {
          "base_uri": "https://localhost:8080/"
        },
        "id": "bvMMlPAy92DI",
        "outputId": "a7e8f099-32f1-4301-fc9a-307f9569f9f9"
      },
      "execution_count": 12,
      "outputs": [
        {
          "output_type": "execute_result",
          "data": {
            "text/plain": [
              "False"
            ]
          },
          "metadata": {},
          "execution_count": 12
        }
      ]
    },
    {
      "cell_type": "code",
      "source": [
        "a = a.replace('DAY', 'Day')\n",
        "'Day' in a"
      ],
      "metadata": {
        "colab": {
          "base_uri": "https://localhost:8080/"
        },
        "id": "X3uNRFam95hR",
        "outputId": "9426c0a3-e685-4517-b55e-f25442365566"
      },
      "execution_count": 13,
      "outputs": [
        {
          "output_type": "execute_result",
          "data": {
            "text/plain": [
              "True"
            ]
          },
          "metadata": {},
          "execution_count": 13
        }
      ]
    },
    {
      "cell_type": "code",
      "source": [
        "\"My name is Obaid Ur Rahman.\".split(\" \")"
      ],
      "metadata": {
        "colab": {
          "base_uri": "https://localhost:8080/"
        },
        "id": "1LFeofeh-bNL",
        "outputId": "f1527be2-5694-49b7-df71-e55ac75e15e8"
      },
      "execution_count": 14,
      "outputs": [
        {
          "output_type": "execute_result",
          "data": {
            "text/plain": [
              "['My', 'name', 'is', 'Obaid', 'Ur', 'Rahman.']"
            ]
          },
          "metadata": {},
          "execution_count": 14
        }
      ]
    },
    {
      "cell_type": "code",
      "source": [
        "myName = input('Input your Name: ')\n",
        "myAge = input('Input Your Age: ')\n",
        "myHobby = input('Input your Hobby: ')\n",
        "string = \"My name is {} & I'm {} years old, my Hobby is {}\".format(myName, myAge, myHobby )\n",
        "string"
      ],
      "metadata": {
        "colab": {
          "base_uri": "https://localhost:8080/",
          "height": 87
        },
        "id": "MWm24BsI_ApX",
        "outputId": "c6e46324-2b8a-4158-dfb6-9671f4969c79"
      },
      "execution_count": 15,
      "outputs": [
        {
          "name": "stdout",
          "output_type": "stream",
          "text": [
            "Input your Name: Obaid Ur Rahman\n",
            "Input Your Age: 24\n",
            "Input your Hobby: Learning.!\n"
          ]
        },
        {
          "output_type": "execute_result",
          "data": {
            "application/vnd.google.colaboratory.intrinsic+json": {
              "type": "string"
            },
            "text/plain": [
              "\"My name is Obaid Ur Rahman & I'm 24 years old, my Hobby is Learning.!\""
            ]
          },
          "metadata": {},
          "execution_count": 15
        }
      ]
    },
    {
      "cell_type": "code",
      "source": [
        "list1"
      ],
      "metadata": {
        "colab": {
          "base_uri": "https://localhost:8080/"
        },
        "id": "N1N45BV2_K6K",
        "outputId": "f4012438-458d-42f2-b358-865fbf191b49"
      },
      "execution_count": 16,
      "outputs": [
        {
          "output_type": "execute_result",
          "data": {
            "text/plain": [
              "['Monday', 'Tuesday', 'Wednesday']"
            ]
          },
          "metadata": {},
          "execution_count": 16
        }
      ]
    },
    {
      "cell_type": "code",
      "source": [
        "list1.append('Thursday')\n",
        "list1"
      ],
      "metadata": {
        "colab": {
          "base_uri": "https://localhost:8080/"
        },
        "id": "TFCL_NxgHcpr",
        "outputId": "f52192cc-42c8-463d-aa5e-9677e30976fa"
      },
      "execution_count": 17,
      "outputs": [
        {
          "output_type": "execute_result",
          "data": {
            "text/plain": [
              "['Monday', 'Tuesday', 'Wednesday', 'Thursday']"
            ]
          },
          "metadata": {},
          "execution_count": 17
        }
      ]
    },
    {
      "cell_type": "code",
      "source": [
        "list1[3] = 'Friday'\n",
        "list1"
      ],
      "metadata": {
        "colab": {
          "base_uri": "https://localhost:8080/"
        },
        "id": "ZAf0nwxDHkVr",
        "outputId": "9eb3b748-b683-4df0-82c1-7deb1a79b074"
      },
      "execution_count": 18,
      "outputs": [
        {
          "output_type": "execute_result",
          "data": {
            "text/plain": [
              "['Monday', 'Tuesday', 'Wednesday', 'Friday']"
            ]
          },
          "metadata": {},
          "execution_count": 18
        }
      ]
    },
    {
      "cell_type": "code",
      "source": [
        "list1.insert(3, 'Thursday')\n",
        "list1"
      ],
      "metadata": {
        "colab": {
          "base_uri": "https://localhost:8080/"
        },
        "id": "nuy-YWwGHsKQ",
        "outputId": "32e979c8-d2f6-48e1-898c-e063e0c9ba63"
      },
      "execution_count": 19,
      "outputs": [
        {
          "output_type": "execute_result",
          "data": {
            "text/plain": [
              "['Monday', 'Tuesday', 'Wednesday', 'Thursday', 'Friday']"
            ]
          },
          "metadata": {},
          "execution_count": 19
        }
      ]
    },
    {
      "cell_type": "code",
      "source": [
        "list1.append(None)\n",
        "list1.insert(1, None)\n",
        "list1"
      ],
      "metadata": {
        "colab": {
          "base_uri": "https://localhost:8080/"
        },
        "id": "weIn495xHzty",
        "outputId": "05b7f089-a273-4fe5-96d5-4d4f0a150ab0"
      },
      "execution_count": 20,
      "outputs": [
        {
          "output_type": "execute_result",
          "data": {
            "text/plain": [
              "['Monday', None, 'Tuesday', 'Wednesday', 'Thursday', 'Friday', None]"
            ]
          },
          "metadata": {},
          "execution_count": 20
        }
      ]
    },
    {
      "cell_type": "code",
      "source": [
        "list1.remove(None)\n",
        "list1"
      ],
      "metadata": {
        "colab": {
          "base_uri": "https://localhost:8080/"
        },
        "id": "aLgxGutCIA06",
        "outputId": "a011ea09-0ca3-4a62-9922-65017840cdcd"
      },
      "execution_count": 21,
      "outputs": [
        {
          "output_type": "execute_result",
          "data": {
            "text/plain": [
              "['Monday', 'Tuesday', 'Wednesday', 'Thursday', 'Friday', None]"
            ]
          },
          "metadata": {},
          "execution_count": 21
        }
      ]
    },
    {
      "cell_type": "code",
      "source": [
        "list1.insert(1, None)\n",
        "list1.insert(3, None)\n",
        "list1"
      ],
      "metadata": {
        "colab": {
          "base_uri": "https://localhost:8080/"
        },
        "id": "eAYEmdp0IJns",
        "outputId": "137d95ec-4d5a-466a-fcbc-6dafb8ec730a"
      },
      "execution_count": 22,
      "outputs": [
        {
          "output_type": "execute_result",
          "data": {
            "text/plain": [
              "['Monday', None, 'Tuesday', None, 'Wednesday', 'Thursday', 'Friday', None]"
            ]
          },
          "metadata": {},
          "execution_count": 22
        }
      ]
    },
    {
      "cell_type": "code",
      "source": [
        "list1.pop(1)\n",
        "list1"
      ],
      "metadata": {
        "colab": {
          "base_uri": "https://localhost:8080/"
        },
        "id": "Kp6ElPpkIW53",
        "outputId": "85a0e915-a6fe-495a-8885-e9bf04cbf190"
      },
      "execution_count": 23,
      "outputs": [
        {
          "output_type": "execute_result",
          "data": {
            "text/plain": [
              "['Monday', 'Tuesday', None, 'Wednesday', 'Thursday', 'Friday', None]"
            ]
          },
          "metadata": {},
          "execution_count": 23
        }
      ]
    },
    {
      "cell_type": "code",
      "source": [
        "for i in list1:\n",
        "  if i == None:\n",
        "    list1.remove(None)\n",
        "\n",
        "list1\n"
      ],
      "metadata": {
        "colab": {
          "base_uri": "https://localhost:8080/"
        },
        "id": "pKj5GjtaI12E",
        "outputId": "d2a36572-8b73-4db1-e8ef-972fbd4d6194"
      },
      "execution_count": 24,
      "outputs": [
        {
          "output_type": "execute_result",
          "data": {
            "text/plain": [
              "['Monday', 'Tuesday', 'Wednesday', 'Thursday', 'Friday']"
            ]
          },
          "metadata": {},
          "execution_count": 24
        }
      ]
    },
    {
      "cell_type": "code",
      "source": [
        "tuple1 =('Apple', 'Banana', 'Mango', 'Watermolon')\n",
        "tuple1"
      ],
      "metadata": {
        "colab": {
          "base_uri": "https://localhost:8080/"
        },
        "id": "7J5El0uLnbPO",
        "outputId": "d2167c87-387e-4864-cd79-967826406967"
      },
      "execution_count": 25,
      "outputs": [
        {
          "output_type": "execute_result",
          "data": {
            "text/plain": [
              "('Apple', 'Banana', 'Mango', 'Watermolon')"
            ]
          },
          "metadata": {},
          "execution_count": 25
        }
      ]
    },
    {
      "cell_type": "code",
      "source": [
        "tuple1[1:]"
      ],
      "metadata": {
        "colab": {
          "base_uri": "https://localhost:8080/"
        },
        "id": "BXSkuACjrGII",
        "outputId": "b905dad3-fb66-4378-8562-25994fd41336"
      },
      "execution_count": 26,
      "outputs": [
        {
          "output_type": "execute_result",
          "data": {
            "text/plain": [
              "('Banana', 'Mango', 'Watermolon')"
            ]
          },
          "metadata": {},
          "execution_count": 26
        }
      ]
    },
    {
      "cell_type": "code",
      "source": [
        "tuple1[0] = 'Can not modify Tuple'"
      ],
      "metadata": {
        "colab": {
          "base_uri": "https://localhost:8080/",
          "height": 169
        },
        "id": "0AxQA_a0rJB6",
        "outputId": "ffb5c21e-7bde-4428-8629-9b7ea07d0477"
      },
      "execution_count": 28,
      "outputs": [
        {
          "output_type": "error",
          "ename": "TypeError",
          "evalue": "ignored",
          "traceback": [
            "\u001b[0;31m---------------------------------------------------------------------------\u001b[0m",
            "\u001b[0;31mTypeError\u001b[0m                                 Traceback (most recent call last)",
            "\u001b[0;32m<ipython-input-28-3a43b61139e4>\u001b[0m in \u001b[0;36m<module>\u001b[0;34m()\u001b[0m\n\u001b[0;32m----> 1\u001b[0;31m \u001b[0mtuple1\u001b[0m\u001b[0;34m[\u001b[0m\u001b[0;36m0\u001b[0m\u001b[0;34m]\u001b[0m \u001b[0;34m=\u001b[0m \u001b[0;34m'Can not modify Tuple'\u001b[0m\u001b[0;34m\u001b[0m\u001b[0;34m\u001b[0m\u001b[0m\n\u001b[0m",
            "\u001b[0;31mTypeError\u001b[0m: 'tuple' object does not support item assignment"
          ]
        }
      ]
    },
    {
      "cell_type": "code",
      "source": [
        "dict1 = {\n",
        "    'name' : 'Obaid Ur Rahman',\n",
        "    'age' : 24,\n",
        "    'sex' : 'Male',\n",
        "    'address' : 'Clifton'\n",
        "}\n",
        "dict1.items()"
      ],
      "metadata": {
        "colab": {
          "base_uri": "https://localhost:8080/"
        },
        "id": "nPESI6q4rQ25",
        "outputId": "865db6c3-7fb4-4d7e-c030-eef74f2f3484"
      },
      "execution_count": 29,
      "outputs": [
        {
          "output_type": "execute_result",
          "data": {
            "text/plain": [
              "dict_items([('name', 'Obaid Ur Rahman'), ('age', 24), ('sex', 'Male'), ('address', 'Clifton')])"
            ]
          },
          "metadata": {},
          "execution_count": 29
        }
      ]
    },
    {
      "cell_type": "code",
      "source": [
        "dict1.keys()"
      ],
      "metadata": {
        "colab": {
          "base_uri": "https://localhost:8080/"
        },
        "id": "7GeqNKbDs_kj",
        "outputId": "29d6b6f8-d5b8-47a8-ac59-129a14a99849"
      },
      "execution_count": 30,
      "outputs": [
        {
          "output_type": "execute_result",
          "data": {
            "text/plain": [
              "dict_keys(['name', 'age', 'sex', 'address'])"
            ]
          },
          "metadata": {},
          "execution_count": 30
        }
      ]
    },
    {
      "cell_type": "code",
      "source": [
        "dict1.values()"
      ],
      "metadata": {
        "colab": {
          "base_uri": "https://localhost:8080/"
        },
        "id": "ttAsWQ4BtKo2",
        "outputId": "e1f771cc-b822-4f80-ff51-d611a58ed9ce"
      },
      "execution_count": 31,
      "outputs": [
        {
          "output_type": "execute_result",
          "data": {
            "text/plain": [
              "dict_values(['Obaid Ur Rahman', 24, 'Male', 'Clifton'])"
            ]
          },
          "metadata": {},
          "execution_count": 31
        }
      ]
    },
    {
      "cell_type": "code",
      "source": [
        "dict1['name']"
      ],
      "metadata": {
        "colab": {
          "base_uri": "https://localhost:8080/",
          "height": 35
        },
        "id": "A12TCl8DtOup",
        "outputId": "dfdd8c13-cafb-471c-9da3-49b345e98a9e"
      },
      "execution_count": 32,
      "outputs": [
        {
          "output_type": "execute_result",
          "data": {
            "application/vnd.google.colaboratory.intrinsic+json": {
              "type": "string"
            },
            "text/plain": [
              "'Obaid Ur Rahman'"
            ]
          },
          "metadata": {},
          "execution_count": 32
        }
      ]
    },
    {
      "cell_type": "code",
      "source": [
        "dict1.get('location', 'No Location Found..!!')"
      ],
      "metadata": {
        "colab": {
          "base_uri": "https://localhost:8080/",
          "height": 35
        },
        "id": "SOS84liatU5g",
        "outputId": "6fe7c69a-3b8b-49b1-d028-878efc8c97b8"
      },
      "execution_count": 33,
      "outputs": [
        {
          "output_type": "execute_result",
          "data": {
            "application/vnd.google.colaboratory.intrinsic+json": {
              "type": "string"
            },
            "text/plain": [
              "'No Location Found..!!'"
            ]
          },
          "metadata": {},
          "execution_count": 33
        }
      ]
    },
    {
      "cell_type": "code",
      "source": [
        "dict1['dict2'] = {}"
      ],
      "metadata": {
        "id": "isiPlUQqtfAH"
      },
      "execution_count": 34,
      "outputs": []
    },
    {
      "cell_type": "code",
      "source": [
        "dict1"
      ],
      "metadata": {
        "colab": {
          "base_uri": "https://localhost:8080/"
        },
        "id": "el50R0YTxLEy",
        "outputId": "df5410bb-d81e-4060-e873-4ec145661b74"
      },
      "execution_count": 35,
      "outputs": [
        {
          "output_type": "execute_result",
          "data": {
            "text/plain": [
              "{'address': 'Clifton',\n",
              " 'age': 24,\n",
              " 'dict2': {},\n",
              " 'name': 'Obaid Ur Rahman',\n",
              " 'sex': 'Male'}"
            ]
          },
          "metadata": {},
          "execution_count": 35
        }
      ]
    },
    {
      "cell_type": "code",
      "source": [
        "dict1['dict2'][0] = 'Data 1'\n",
        "dict1['dict2'][1] = 'Data 2'"
      ],
      "metadata": {
        "id": "gZts2237xMRL"
      },
      "execution_count": 36,
      "outputs": []
    },
    {
      "cell_type": "code",
      "source": [
        "dict1"
      ],
      "metadata": {
        "colab": {
          "base_uri": "https://localhost:8080/"
        },
        "id": "MDjm4UqDxb6w",
        "outputId": "fa297ffd-d73b-4c5e-cf7a-22eab7fc490a"
      },
      "execution_count": 37,
      "outputs": [
        {
          "output_type": "execute_result",
          "data": {
            "text/plain": [
              "{'address': 'Clifton',\n",
              " 'age': 24,\n",
              " 'dict2': {0: 'Data 1', 1: 'Data 2'},\n",
              " 'name': 'Obaid Ur Rahman',\n",
              " 'sex': 'Male'}"
            ]
          },
          "metadata": {},
          "execution_count": 37
        }
      ]
    },
    {
      "cell_type": "code",
      "source": [
        "dict1['dict2'][2]  = {'Key 1' : 'Value1', 'Key 2' : 'Value2'}"
      ],
      "metadata": {
        "id": "6-4mb5rvxo6C"
      },
      "execution_count": 38,
      "outputs": []
    },
    {
      "cell_type": "code",
      "source": [
        "dict1"
      ],
      "metadata": {
        "colab": {
          "base_uri": "https://localhost:8080/"
        },
        "id": "AhkMlwzxyKUL",
        "outputId": "0242e172-94c2-4423-9ff1-0dcecd3dca5b"
      },
      "execution_count": 39,
      "outputs": [
        {
          "output_type": "execute_result",
          "data": {
            "text/plain": [
              "{'address': 'Clifton',\n",
              " 'age': 24,\n",
              " 'dict2': {0: 'Data 1',\n",
              "  1: 'Data 2',\n",
              "  2: {'Key 1': 'Value1', 'Key 2': 'Value2'}},\n",
              " 'name': 'Obaid Ur Rahman',\n",
              " 'sex': 'Male'}"
            ]
          },
          "metadata": {},
          "execution_count": 39
        }
      ]
    },
    {
      "cell_type": "code",
      "source": [
        "dict4 = dict1['dict2'][2].copy()\n",
        "dict4"
      ],
      "metadata": {
        "colab": {
          "base_uri": "https://localhost:8080/"
        },
        "id": "GwrXYIpVyLO7",
        "outputId": "6220a4ff-ddf8-4658-a396-6292e02cdc15"
      },
      "execution_count": 40,
      "outputs": [
        {
          "output_type": "execute_result",
          "data": {
            "text/plain": [
              "{'Key 1': 'Value1', 'Key 2': 'Value2'}"
            ]
          },
          "metadata": {},
          "execution_count": 40
        }
      ]
    },
    {
      "cell_type": "code",
      "source": [
        "dict1['dict2'][2] = 'Hello Data'\n",
        "dict1"
      ],
      "metadata": {
        "colab": {
          "base_uri": "https://localhost:8080/"
        },
        "id": "pTeHTfDGyykg",
        "outputId": "ac2e791b-028b-4fb6-d1ad-e6e029dca307"
      },
      "execution_count": 41,
      "outputs": [
        {
          "output_type": "execute_result",
          "data": {
            "text/plain": [
              "{'address': 'Clifton',\n",
              " 'age': 24,\n",
              " 'dict2': {0: 'Data 1', 1: 'Data 2', 2: 'Hello Data'},\n",
              " 'name': 'Obaid Ur Rahman',\n",
              " 'sex': 'Male'}"
            ]
          },
          "metadata": {},
          "execution_count": 41
        }
      ]
    },
    {
      "cell_type": "code",
      "source": [
        "dict4"
      ],
      "metadata": {
        "colab": {
          "base_uri": "https://localhost:8080/"
        },
        "id": "ylux22eXzEuK",
        "outputId": "b1830182-92b5-4ebd-93e9-9f86db6376e1"
      },
      "execution_count": 42,
      "outputs": [
        {
          "output_type": "execute_result",
          "data": {
            "text/plain": [
              "{'Key 1': 'Value1', 'Key 2': 'Value2'}"
            ]
          },
          "metadata": {},
          "execution_count": 42
        }
      ]
    },
    {
      "cell_type": "code",
      "source": [
        "days = list1.copy()\n",
        "days"
      ],
      "metadata": {
        "id": "pZu6E19fzKfp",
        "colab": {
          "base_uri": "https://localhost:8080/"
        },
        "outputId": "8ae46752-3d38-4138-fad3-ea73b44bcb32"
      },
      "execution_count": 43,
      "outputs": [
        {
          "output_type": "execute_result",
          "data": {
            "text/plain": [
              "['Monday', 'Tuesday', 'Wednesday', 'Thursday', 'Friday']"
            ]
          },
          "metadata": {},
          "execution_count": 43
        }
      ]
    },
    {
      "cell_type": "code",
      "source": [
        "if 'Saturday' in days:\n",
        "  print(\"Today is Saturday.!\")\n",
        "elif 'Monday' in days:\n",
        "  print('Today is Monday')\n",
        "else:\n",
        "  print('Neither Monday Nor Saturday')\n",
        "#if true no other will run\n",
        "#if false elif will run\n",
        "#elif also false, else will run"
      ],
      "metadata": {
        "colab": {
          "base_uri": "https://localhost:8080/"
        },
        "id": "PhBemIRNbUlt",
        "outputId": "9881eac2-2787-4315-d492-70b45e2e478b"
      },
      "execution_count": 44,
      "outputs": [
        {
          "output_type": "stream",
          "name": "stdout",
          "text": [
            "Today is Monday\n"
          ]
        }
      ]
    },
    {
      "cell_type": "code",
      "source": [
        "i = 1\n",
        "result = 1\n",
        "factorial = 5\n",
        "while i <=factorial:\n",
        "  result = result * i\n",
        "  i = i + 1\n",
        "result"
      ],
      "metadata": {
        "colab": {
          "base_uri": "https://localhost:8080/"
        },
        "id": "dinplbZAcOFT",
        "outputId": "85dc1bf6-d58b-4926-9ffa-f6b86abd3d42"
      },
      "execution_count": 45,
      "outputs": [
        {
          "output_type": "execute_result",
          "data": {
            "text/plain": [
              "120"
            ]
          },
          "metadata": {},
          "execution_count": 45
        }
      ]
    },
    {
      "cell_type": "code",
      "source": [
        "for i in range(1, 10):\n",
        "  space = \" \"  *  (10-i)\n",
        "  star = \"*\" * i\n",
        "  print(space, star)\n",
        "j = 2\n",
        "while j in range (2, 10):\n",
        "  space = \" \" * j\n",
        "  star = \"*\" * (10-j)\n",
        "  print(space, star)\n",
        "  j += 1"
      ],
      "metadata": {
        "id": "6zRAxqzkkO5f",
        "colab": {
          "base_uri": "https://localhost:8080/"
        },
        "outputId": "6b204716-a04c-4ee1-cb48-9c1f91e64587"
      },
      "execution_count": 46,
      "outputs": [
        {
          "output_type": "stream",
          "name": "stdout",
          "text": [
            "          *\n",
            "         **\n",
            "        ***\n",
            "       ****\n",
            "      *****\n",
            "     ******\n",
            "    *******\n",
            "   ********\n",
            "  *********\n",
            "   ********\n",
            "    *******\n",
            "     ******\n",
            "      *****\n",
            "       ****\n",
            "        ***\n",
            "         **\n",
            "          *\n"
          ]
        }
      ]
    },
    {
      "cell_type": "code",
      "source": [
        "def myFunction (param1, param2, param3 = None):\n",
        "  print('This is the value of 1st parameter: ', param1)\n",
        "  print('This is the value of 2nd parameter: ', param2)\n",
        "  if param3:\n",
        "    print(\"This is the value of 3rd parametr: \",param3)\n",
        "  else:\n",
        "    print(\"You have only input two parameters.!\")\n",
        "\n",
        "myFunction(15, 25)"
      ],
      "metadata": {
        "id": "PBBEvXbxXPgJ",
        "colab": {
          "base_uri": "https://localhost:8080/"
        },
        "outputId": "7a33b781-bb46-419d-a717-ff091e8977f1"
      },
      "execution_count": 47,
      "outputs": [
        {
          "output_type": "stream",
          "name": "stdout",
          "text": [
            "This is the value of 1st parameter:  15\n",
            "This is the value of 2nd parameter:  25\n",
            "You have only input two parameters.!\n"
          ]
        }
      ]
    },
    {
      "cell_type": "code",
      "source": [
        "myFunction(15, 25, 35)"
      ],
      "metadata": {
        "colab": {
          "base_uri": "https://localhost:8080/"
        },
        "id": "EDoAX52Y_v6g",
        "outputId": "8d1209e0-337c-4604-d7f6-fc58aa3be12f"
      },
      "execution_count": 48,
      "outputs": [
        {
          "output_type": "stream",
          "name": "stdout",
          "text": [
            "This is the value of 1st parameter:  15\n",
            "This is the value of 2nd parameter:  25\n",
            "This is the value of 3rd parametr:  35\n"
          ]
        }
      ]
    },
    {
      "cell_type": "code",
      "source": [
        "try:\n",
        "  x = 15/0\n",
        "except ZeroDivisionError:\n",
        "  print('There is a zaero division error encountered...!!')\n",
        "finally:\n",
        "  print(\"Try & Except block is executed successfully...!!!!!\")"
      ],
      "metadata": {
        "colab": {
          "base_uri": "https://localhost:8080/"
        },
        "id": "ehOmLEcX_1ov",
        "outputId": "bb709125-b6a7-4e79-e770-060f10115e48"
      },
      "execution_count": 49,
      "outputs": [
        {
          "output_type": "stream",
          "name": "stdout",
          "text": [
            "There is a zaero division error encountered...!!\n",
            "Try & Except block is executed successfully...!!!!!\n"
          ]
        }
      ]
    },
    {
      "cell_type": "code",
      "source": [
        ""
      ],
      "metadata": {
        "id": "YIRs8klVDM05"
      },
      "execution_count": 49,
      "outputs": []
    }
  ]
}